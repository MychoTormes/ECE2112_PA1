{
 "cells": [
  {
   "cell_type": "code",
   "execution_count": 3,
   "id": "d3aa4bed-4da3-4357-af44-54b3a17b98d2",
   "metadata": {},
   "outputs": [],
   "source": [
    "def writeyourcodehere(n):\n",
    "    print(\"First:\", n[0])\n",
    "    print(\"Middle\", n[-1])\n",
    "    print(\"Last\", n[1:-1])"
   ]
  },
  {
   "cell_type": "code",
   "execution_count": null,
   "id": "e0d53f3d-bb77-4197-9da4-2b699959c986",
   "metadata": {},
   "outputs": [],
   "source": []
  }
 ],
 "metadata": {
  "kernelspec": {
   "display_name": "Python 3 (ipykernel)",
   "language": "python",
   "name": "python3"
  },
  "language_info": {
   "codemirror_mode": {
    "name": "ipython",
    "version": 3
   },
   "file_extension": ".py",
   "mimetype": "text/x-python",
   "name": "python",
   "nbconvert_exporter": "python",
   "pygments_lexer": "ipython3",
   "version": "3.12.4"
  }
 },
 "nbformat": 4,
 "nbformat_minor": 5
}
