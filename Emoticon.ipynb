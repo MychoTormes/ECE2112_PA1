{
 "cells": [
  {
   "cell_type": "code",
   "execution_count": 119,
   "id": "b7f658fd-55a4-4c6b-8d4b-0447fb7ca868",
   "metadata": {},
   "outputs": [],
   "source": [
    "def emotify(n):\n",
    "    z = \"smile\" in n\n",
    "    x = \"grin\" in n\n",
    "    y = \"sad\" in n\n",
    "    w = \"mad\" in n\n",
    "    if z: \n",
    "        a = n.replace(\"smile\", \":)\")\n",
    "        print(a)\n",
    "    elif x:\n",
    "        a = n.replace(\"grin\", \":D\")\n",
    "        print(a)\n",
    "    elif y:\n",
    "        a = n.replace(\"sad\", \":((\")\n",
    "        print(a)\n",
    "    elif w:\n",
    "        a = n.replace(\"mad\", \">:(\")\n",
    "        print(a)"
   ]
  },
  {
   "cell_type": "code",
   "execution_count": null,
   "id": "07aaac0a-a0a8-4b65-8f5f-4334140fb3fb",
   "metadata": {},
   "outputs": [],
   "source": []
  }
 ],
 "metadata": {
  "kernelspec": {
   "display_name": "Python 3 (ipykernel)",
   "language": "python",
   "name": "python3"
  },
  "language_info": {
   "codemirror_mode": {
    "name": "ipython",
    "version": 3
   },
   "file_extension": ".py",
   "mimetype": "text/x-python",
   "name": "python",
   "nbconvert_exporter": "python",
   "pygments_lexer": "ipython3",
   "version": "3.12.4"
  }
 },
 "nbformat": 4,
 "nbformat_minor": 5
}
